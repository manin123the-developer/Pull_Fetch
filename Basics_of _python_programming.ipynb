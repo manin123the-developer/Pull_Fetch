{
 "cells": [
  {
   "cell_type": "markdown",
   "id": "983d39b2-d1ee-4c95-befd-fc122b4724e6",
   "metadata": {},
   "source": [
    "# 3. Basics of Python Programming"
   ]
  },
  {
   "cell_type": "code",
   "execution_count": 1,
   "id": "0bfb9c9d-a596-41aa-8588-b031a958cfbd",
   "metadata": {},
   "outputs": [
    {
     "name": "stdout",
     "output_type": "stream",
     "text": [
      "hello world\n"
     ]
    }
   ],
   "source": [
    "#printing the hello world\n",
    "print(\"hello world\")"
   ]
  },
  {
   "cell_type": "markdown",
   "id": "2fb2a1fb-2cfe-478f-a6bb-5bde689c80a4",
   "metadata": {},
   "source": [
    "### format()"
   ]
  },
  {
   "cell_type": "code",
   "execution_count": 4,
   "id": "aceec074-09af-471e-ac55-8f8998767e34",
   "metadata": {},
   "outputs": [
    {
     "data": {
      "text/plain": [
       "5.333333333333333"
      ]
     },
     "execution_count": 4,
     "metadata": {},
     "output_type": "execute_result"
    }
   ],
   "source": [
    "float(16)/float(3)\n"
   ]
  },
  {
   "cell_type": "code",
   "execution_count": 7,
   "id": "21339360-eee2-490a-b476-94e4c78ac63a",
   "metadata": {},
   "outputs": [
    {
     "data": {
      "text/plain": [
       "'5.333'"
      ]
     },
     "execution_count": 7,
     "metadata": {},
     "output_type": "execute_result"
    }
   ],
   "source": [
    "format(float(16)/float(3),'.3f')\n"
   ]
  },
  {
   "cell_type": "code",
   "execution_count": 10,
   "id": "e76bcc11-7527-4091-bb18-f4d642d52c41",
   "metadata": {},
   "outputs": [
    {
     "data": {
      "text/plain": [
       "'7.17898e+23'"
      ]
     },
     "execution_count": 10,
     "metadata": {},
     "output_type": "execute_result"
    }
   ],
   "source": [
    "format(3**50,'.5e')"
   ]
  },
  {
   "cell_type": "code",
   "execution_count": 11,
   "id": "ce6c029c-e3ba-430c-8582-e7a7cc0e2acc",
   "metadata": {},
   "outputs": [
    {
     "data": {
      "text/plain": [
       "'123,456'"
      ]
     },
     "execution_count": 11,
     "metadata": {},
     "output_type": "execute_result"
    }
   ],
   "source": [
    "format(123456,',')"
   ]
  },
  {
   "cell_type": "raw",
   "id": "3824a4fc-0362-4ce9-a47d-89d892aa97c7",
   "metadata": {},
   "source": [
    "format()"
   ]
  },
  {
   "cell_type": "markdown",
   "id": "2430c0c8-ea51-43a5-bf2e-c6e53b784afe",
   "metadata": {},
   "source": [
    "### Quotient and Remainder"
   ]
  },
  {
   "cell_type": "code",
   "execution_count": 13,
   "id": "61c38f3a-d694-4e7a-920e-055319f83fbf",
   "metadata": {},
   "outputs": [
    {
     "data": {
      "text/plain": [
       "5.2"
      ]
     },
     "execution_count": 13,
     "metadata": {},
     "output_type": "execute_result"
    }
   ],
   "source": [
    "78/15\n"
   ]
  },
  {
   "cell_type": "code",
   "execution_count": 14,
   "id": "77b729da-cc2d-4949-856f-3595c70d82b3",
   "metadata": {},
   "outputs": [
    {
     "data": {
      "text/plain": [
       "5"
      ]
     },
     "execution_count": 14,
     "metadata": {},
     "output_type": "execute_result"
    }
   ],
   "source": [
    "78//15\n"
   ]
  },
  {
   "cell_type": "code",
   "execution_count": 15,
   "id": "9cc2b6c0-6eef-4440-b9ac-ae6a640d951d",
   "metadata": {},
   "outputs": [
    {
     "data": {
      "text/plain": [
       "3"
      ]
     },
     "execution_count": 15,
     "metadata": {},
     "output_type": "execute_result"
    }
   ],
   "source": [
    "78%15"
   ]
  },
  {
   "cell_type": "code",
   "execution_count": 19,
   "id": "005e899e-0893-4aeb-8aa3-298fcad8916e",
   "metadata": {},
   "outputs": [
    {
     "name": "stdout",
     "output_type": "stream",
     "text": [
      "15.6\n",
      "15\n",
      "3\n",
      "15.6\n",
      "15.0\n"
     ]
    }
   ],
   "source": [
    "print(78/5)\n",
    "print(78//5)\n",
    "print(78%5)\n",
    "print(78/5.0)\n",
    "print(78//5.0)"
   ]
  },
  {
   "cell_type": "markdown",
   "id": "19000354-e222-4379-be42-fba6a9c78fff",
   "metadata": {},
   "source": [
    "### Strings"
   ]
  },
  {
   "cell_type": "code",
   "execution_count": 23,
   "id": "a21a3806-5ba2-42ec-9141-afd45c4ac37c",
   "metadata": {},
   "outputs": [
    {
     "name": "stdout",
     "output_type": "stream",
     "text": [
      "mani\n",
      "Mani\n",
      "Hello Mani! How are you. enti sangati \n"
     ]
    }
   ],
   "source": [
    "print('mani')\n",
    "print(\"Mani\")\n",
    "print('''Hello Mani! How are you. enti sangati ''')"
   ]
  },
  {
   "cell_type": "code",
   "execution_count": 28,
   "id": "a702c680-955b-4a1d-a8fe-836c0e29580a",
   "metadata": {},
   "outputs": [
    {
     "name": "stdout",
     "output_type": "stream",
     "text": [
      "Hello Manchilo vunnavu raGundello gitar moginchavey ennenno janmala  bandham ni deee naadi\n"
     ]
    }
   ],
   "source": [
    "print('Hello' ' Manchi' 'lo vunnavu ra' 'Gundello gitar moginchavey ennenno janmala  bandham ni deee naadi')"
   ]
  },
  {
   "cell_type": "code",
   "execution_count": 30,
   "id": "cb502d6b-c97b-41af-85a6-528e7b9d9cf0",
   "metadata": {},
   "outputs": [
    {
     "name": "stdout",
     "output_type": "stream",
     "text": [
      "Mani@123445667890\n"
     ]
    }
   ],
   "source": [
    "print(U\"Mani@123445667890\")"
   ]
  },
  {
   "cell_type": "markdown",
   "id": "8fb5eec2-b65d-4dd6-afc6-c3ece58eab07",
   "metadata": {},
   "source": [
    "### Escape Sequernces"
   ]
  },
  {
   "cell_type": "code",
   "execution_count": 31,
   "id": "0431bfcb-e67a-4c6b-9408-8c4f7645c11b",
   "metadata": {},
   "outputs": [
    {
     "ename": "SyntaxError",
     "evalue": "unterminated string literal (detected at line 1) (210042158.py, line 1)",
     "output_type": "error",
     "traceback": [
      "\u001b[1;36m  Cell \u001b[1;32mIn[31], line 1\u001b[1;36m\u001b[0m\n\u001b[1;33m    print('what's Your name?')\u001b[0m\n\u001b[1;37m                            ^\u001b[0m\n\u001b[1;31mSyntaxError\u001b[0m\u001b[1;31m:\u001b[0m unterminated string literal (detected at line 1)\n"
     ]
    }
   ],
   "source": [
    "print('what's Your name?')"
   ]
  },
  {
   "cell_type": "code",
   "execution_count": 32,
   "id": "1d074a33-6f02-4f75-811a-8e119a3c451c",
   "metadata": {},
   "outputs": [
    {
     "name": "stdout",
     "output_type": "stream",
     "text": [
      "What's Your name?\n"
     ]
    }
   ],
   "source": [
    "print('What\\'s Your name?')"
   ]
  },
  {
   "cell_type": "code",
   "execution_count": 35,
   "id": "95e958b0-c985-4a9b-8bf8-4948cea6bc40",
   "metadata": {},
   "outputs": [
    {
     "ename": "SyntaxError",
     "evalue": "invalid syntax. Perhaps you forgot a comma? (4031530632.py, line 1)",
     "output_type": "error",
     "traceback": [
      "\u001b[1;36m  Cell \u001b[1;32mIn[35], line 1\u001b[1;36m\u001b[0m\n\u001b[1;33m    print(\"What is your name? \"My name is Mani the  Discoverer and Intventor\"\")\u001b[0m\n\u001b[1;37m          ^\u001b[0m\n\u001b[1;31mSyntaxError\u001b[0m\u001b[1;31m:\u001b[0m invalid syntax. Perhaps you forgot a comma?\n"
     ]
    }
   ],
   "source": [
    "print(\"What is your name? \"My name is Mani the  Discoverer and Intventor\"\")"
   ]
  },
  {
   "cell_type": "code",
   "execution_count": 37,
   "id": "9c9cf393-f297-414a-ae1b-b918ab1ece29",
   "metadata": {},
   "outputs": [
    {
     "ename": "SyntaxError",
     "evalue": "unterminated string literal (detected at line 1) (884546924.py, line 1)",
     "output_type": "error",
     "traceback": [
      "\u001b[1;36m  Cell \u001b[1;32mIn[37], line 1\u001b[1;36m\u001b[0m\n\u001b[1;33m    print(\"What is your name? \\\"My name is Mani the  Discoverer and Intventor\" \")\u001b[0m\n\u001b[1;37m                                                                               ^\u001b[0m\n\u001b[1;31mSyntaxError\u001b[0m\u001b[1;31m:\u001b[0m unterminated string literal (detected at line 1)\n"
     ]
    }
   ],
   "source": [
    "print(\"What is your name? \\\"My name is Mani the  Discoverer and Intventor\" \")"
   ]
  },
  {
   "cell_type": "code",
   "execution_count": 38,
   "id": "315c332f-faf6-4489-9515-d06a4fc513cd",
   "metadata": {},
   "outputs": [
    {
     "name": "stdout",
     "output_type": "stream",
     "text": [
      "What is your name? \"My name is Mani the  Discoverer and Intventor\" \n"
     ]
    }
   ],
   "source": [
    "print(\"What is your name? \\\"My name is Mani the  Discoverer and Intventor\\\" \")"
   ]
  },
  {
   "cell_type": "code",
   "execution_count": 41,
   "id": "6d8d6542-5cd2-48ea-80ed-954eb75c89f1",
   "metadata": {},
   "outputs": [
    {
     "ename": "SyntaxError",
     "evalue": "invalid syntax. Perhaps you forgot a comma? (2245486911.py, line 1)",
     "output_type": "error",
     "traceback": [
      "\u001b[1;36m  Cell \u001b[1;32mIn[41], line 1\u001b[1;36m\u001b[0m\n\u001b[1;33m    print(\"\"\" \"\"\"My name is manisankar Reddy\"\"\" \"\"\")\u001b[0m\n\u001b[1;37m          ^\u001b[0m\n\u001b[1;31mSyntaxError\u001b[0m\u001b[1;31m:\u001b[0m invalid syntax. Perhaps you forgot a comma?\n"
     ]
    }
   ],
   "source": [
    "print(\"\"\" \"\"\"My name is manisankar Reddy\"\"\" \"\"\")"
   ]
  },
  {
   "cell_type": "code",
   "execution_count": 47,
   "id": "fbb04223-0339-4903-b268-7e7f5297ac39",
   "metadata": {},
   "outputs": [
    {
     "name": "stdout",
     "output_type": "stream",
     "text": [
      " \"\"\"My name is manisankar Reddy\"\"\" \n"
     ]
    }
   ],
   "source": [
    "print(\"\"\" \\\"\"\"My name is manisankar Reddy\\\"\"\" \"\"\")"
   ]
  },
  {
   "cell_type": "code",
   "execution_count": 48,
   "id": "46c7c96b-c178-489b-84e9-a34dd346628d",
   "metadata": {},
   "outputs": [
    {
     "ename": "SyntaxError",
     "evalue": "invalid syntax. Perhaps you forgot a comma? (915488726.py, line 1)",
     "output_type": "error",
     "traceback": [
      "\u001b[1;36m  Cell \u001b[1;32mIn[48], line 1\u001b[1;36m\u001b[0m\n\u001b[1;33m    print(\"My Enthusiasm is my \"best Strength\"\")\u001b[0m\n\u001b[1;37m          ^\u001b[0m\n\u001b[1;31mSyntaxError\u001b[0m\u001b[1;31m:\u001b[0m invalid syntax. Perhaps you forgot a comma?\n"
     ]
    }
   ],
   "source": [
    "print(\"My Enthusiasm is my \"best Strength\"\")"
   ]
  },
  {
   "cell_type": "code",
   "execution_count": 50,
   "id": "777dd3d9-bddc-447d-b95c-9e13d2289067",
   "metadata": {},
   "outputs": [
    {
     "name": "stdout",
     "output_type": "stream",
     "text": [
      "My Enthusiasm is my \"best Strength.\"\n"
     ]
    }
   ],
   "source": [
    "print(\"My Enthusiasm is my \\\"best Strength.\\\"\")"
   ]
  },
  {
   "cell_type": "code",
   "execution_count": 54,
   "id": "a0120199-21b4-496c-a32b-355f2f9b4db8",
   "metadata": {},
   "outputs": [
    {
     "name": "stdout",
     "output_type": "stream",
     "text": [
      "This is my basics revision about python programming.  \n",
      "I am very curious to recall all these stuff again.....\n"
     ]
    }
   ],
   "source": [
    "print(\"This is my basics revision about python programming.  \\nI am very curious to recall all these stuff again.....\")"
   ]
  },
  {
   "cell_type": "code",
   "execution_count": 56,
   "id": "b6f609f7-f1be-4f96-8b3a-15a290ddeecf",
   "metadata": {},
   "outputs": [
    {
     "name": "stdout",
     "output_type": "stream",
     "text": [
      "\"moye moye\"\n"
     ]
    }
   ],
   "source": [
    "print(\"\\\"moye moye\\\"\")"
   ]
  },
  {
   "cell_type": "code",
   "execution_count": 57,
   "id": "ea1561bb-8601-468f-a4c2-0ed219831a59",
   "metadata": {},
   "outputs": [
    {
     "name": "stdout",
     "output_type": "stream",
     "text": [
      "\\\n"
     ]
    }
   ],
   "source": [
    "#pritning the backslash\n",
    "print(\"\\\\\")"
   ]
  },
  {
   "cell_type": "code",
   "execution_count": 58,
   "id": "8dda8458-26ee-4e4a-966a-ae258c6b779a",
   "metadata": {},
   "outputs": [
    {
     "name": "stdout",
     "output_type": "stream",
     "text": [
      "\u0007\n"
     ]
    }
   ],
   "source": [
    "print('\\a')"
   ]
  },
  {
   "cell_type": "code",
   "execution_count": 64,
   "id": "3e4f65af-55ed-49ed-950c-acf4641a2665",
   "metadata": {},
   "outputs": [
    {
     "name": "stdout",
     "output_type": "stream",
     "text": [
      "\u0007\n",
      "Mani is the\t\"Man of the  Mass Heart\" \n",
      "Mani is the\n",
      "\"Man of the  Mass Heart\" \n",
      "Mani is the\f",
      "\"Man of the  Mass Heart\" \n"
     ]
    }
   ],
   "source": [
    "print(\"\\a\")\n",
    "print(\"Mani is the\\t\\\"Man of the  Mass Heart\\\" \")\n",
    "print(\"Mani is the\\n\\\"Man of the  Mass Heart\\\" \")\n",
    "print(\"Mani is the\\f\\\"Man of the  Mass Heart\\\" \")"
   ]
  },
  {
   "cell_type": "code",
   "execution_count": 69,
   "id": "ce2f369f-2adc-4458-b820-926f2b403504",
   "metadata": {},
   "outputs": [
    {
     "ename": "TypeError",
     "evalue": "can't multiply sequence by non-int of type 'builtin_function_or_method'",
     "output_type": "error",
     "traceback": [
      "\u001b[1;31m---------------------------------------------------------------------------\u001b[0m",
      "\u001b[1;31mTypeError\u001b[0m                                 Traceback (most recent call last)",
      "Cell \u001b[1;32mIn[69], line 1\u001b[0m\n\u001b[1;32m----> 1\u001b[0m \u001b[38;5;28;43mprint\u001b[39;49m\u001b[38;5;241;43m*\u001b[39;49m\u001b[43m(\u001b[49m\u001b[38;5;124;43m\"\u001b[39;49m\u001b[38;5;132;43;01m%x\u001b[39;49;00m\u001b[38;5;124;43m58\u001b[39;49m\u001b[38;5;124;43m\"\u001b[39;49m\u001b[43m)\u001b[49m\n",
      "\u001b[1;31mTypeError\u001b[0m: can't multiply sequence by non-int of type 'builtin_function_or_method'"
     ]
    }
   ],
   "source": [
    "print*(\"%x58\")"
   ]
  },
  {
   "cell_type": "code",
   "execution_count": 70,
   "id": "6a9940ae-15f9-4ab4-8077-fe2f5837f50a",
   "metadata": {},
   "outputs": [
    {
     "name": "stdout",
     "output_type": "stream",
     "text": [
      "'Mani is  a BAd MAn.'s.\n"
     ]
    }
   ],
   "source": [
    "## RAW string\n",
    "\n",
    "print(R\"'Mani is  a BAd MAn.'s.\")"
   ]
  },
  {
   "cell_type": "code",
   "execution_count": 78,
   "id": "2c9be5a0-3ced-4522-83ff-a38cf189dce8",
   "metadata": {},
   "outputs": [
    {
     "name": "stdout",
     "output_type": "stream",
     "text": [
      "Buddy                                             \n",
      "                                             Buddy\n",
      "                      Buddy                       \n"
     ]
    }
   ],
   "source": [
    "print(format('Buddy','<50'))\n",
    "print(format('Buddy','>50'))\n",
    "print(format('Buddy','^50'))"
   ]
  },
  {
   "cell_type": "code",
   "execution_count": 80,
   "id": "db31bc92-2898-4bb5-b10c-fd2d3d6f7590",
   "metadata": {},
   "outputs": [
    {
     "name": "stdout",
     "output_type": "stream",
     "text": [
      "Maniwwwwww\n",
      "wwwwwwMani\n",
      "wwwManiwww\n"
     ]
    }
   ],
   "source": [
    "print(format('Mani','w<10'))\n",
    "print(format('Mani','w>10'))\n",
    "print(format('Mani','w^10'))"
   ]
  },
  {
   "cell_type": "markdown",
   "id": "e0e198be-cbdb-474f-ac94-364be1ae8829",
   "metadata": {},
   "source": [
    "### OPerators"
   ]
  },
  {
   "cell_type": "raw",
   "id": "78fda340-2aa1-4d8a-addc-e822941bc8d7",
   "metadata": {},
   "source": [
    "1)Arithmetic Operators -> +,-,*,/,**,//,%\n",
    "2)Assignment Operators -> =,+=,-=,/=,//=,*=,**= ,%=, !=\n",
    "3)Logical operators -> &&,||,!\n",
    "4)Comparison (Relational) Operarators -> == ,!= , < ,>, <=, >= \n",
    "5)Unary Operators -> -\n",
    "6)Bitwise Operartors -> &,| ,~ ,^\n",
    "7)Membership Operators -> in , not in\n",
    "8)Identity Operators -> is , isnot"
   ]
  },
  {
   "cell_type": "code",
   "execution_count": 92,
   "id": "76f201ad-bb1d-4cf8-9ec0-e4ab8eb7e6da",
   "metadata": {},
   "outputs": [],
   "source": [
    "# shift operators\n",
    "\n",
    "x = int(bin(258)[2:])\n",
    "x=100000010\n"
   ]
  },
  {
   "cell_type": "code",
   "execution_count": 93,
   "id": "8b419d9c-4594-4df0-af63-fd2da18b0d9c",
   "metadata": {},
   "outputs": [
    {
     "name": "stdout",
     "output_type": "stream",
     "text": [
      "200000020\n",
      "50000005\n"
     ]
    }
   ],
   "source": [
    "left_shift = x << 1\n",
    "right_shift  = x >>1\n",
    "print(left_shift)\n",
    "print(right_shift)"
   ]
  },
  {
   "cell_type": "code",
   "execution_count": 100,
   "id": "1288d80f-73ee-41e0-8c19-4f6e34274a29",
   "metadata": {},
   "outputs": [
    {
     "name": "stdout",
     "output_type": "stream",
     "text": [
      "mani mani mani mani mani \n"
     ]
    }
   ],
   "source": [
    "str ='mani '*5\n",
    "print(str )"
   ]
  },
  {
   "cell_type": "code",
   "execution_count": 107,
   "id": "b7bb4a2b-4548-46aa-8ada-56aa55e26708",
   "metadata": {},
   "outputs": [
    {
     "name": "stdout",
     "output_type": "stream",
     "text": [
      "('abc', 23, 10.25, True, '125')\n",
      "10.25\n",
      "('abc', 23, 10.25, True, '125', 123, 45, 6.2)\n",
      "('abc', 23, 10.25, True, '125', 'abc', 23, 10.25, True, '125')\n"
     ]
    }
   ],
   "source": [
    "#tuple \n",
    "my_tuple = ('abc', 23, 10.25, True,'125')\n",
    "print(my_tuple)\n",
    "print(my_tuple[2])\n",
    "print(my_tuple+(123,45,6.2))\n",
    "print(my_tuple *2)\n",
    "\n",
    "#print(my_tuple[3] = 'a')"
   ]
  },
  {
   "cell_type": "code",
   "execution_count": 108,
   "id": "f5df5da5-781b-441a-bebc-ffdf9fa31738",
   "metadata": {},
   "outputs": [
    {
     "name": "stdout",
     "output_type": "stream",
     "text": [
      "('abc', 23, 10.25, True, '125', 'abc', 23, 10.25, True, '125')\n"
     ]
    }
   ],
   "source": [
    "#Guess the output...\n",
    "\n",
    "my_tuple = ('abc', 23, 10.25, True,'125')\n",
    "print(my_tuple * 2)\n",
    "\n",
    "ouptput: \n",
    "\n",
    "a) Runtime Error\n",
    "b) Syntax Error\n",
    "c) Repeats the Tuple\n",
    "d) Double the each value in the tuple\n"
   ]
  },
  {
   "cell_type": "code",
   "execution_count": 111,
   "id": "b1c4b60e-38f9-4b25-a2d6-bb8cdb300c91",
   "metadata": {},
   "outputs": [
    {
     "name": "stdout",
     "output_type": "stream",
     "text": [
      "101\n",
      "[1, 2.1, 101, 'Mani', True, 1, 2.1, 101, 'Mani', True, 1, 2.1, 101, 'Mani', True]\n"
     ]
    }
   ],
   "source": [
    "#list\n",
    "list_1 =  [1, 2.1, 101,'Mani', True]\n",
    "\n",
    "print(list_1[2])\n",
    "print(list_1 *3)\n"
   ]
  },
  {
   "cell_type": "markdown",
   "id": "fdce0711-9048-46dc-908e-5fa599f4ffd2",
   "metadata": {},
   "source": [
    "### Type Conversion\n"
   ]
  },
  {
   "cell_type": "code",
   "execution_count": 115,
   "id": "7e07a53b-51ea-4da8-aa0e-670a671e38ca",
   "metadata": {},
   "outputs": [
    {
     "data": {
      "text/plain": [
       "'A'"
      ]
     },
     "execution_count": 115,
     "metadata": {},
     "output_type": "execute_result"
    }
   ],
   "source": [
    "my_str = 'A'\n",
    "chr(ord(my_str))\n"
   ]
  },
  {
   "cell_type": "code",
   "execution_count": 117,
   "id": "0022b63d-b6c6-4553-a679-dd9753dc9443",
   "metadata": {},
   "outputs": [
    {
     "ename": "NameError",
     "evalue": "name 'unichr' is not defined",
     "output_type": "error",
     "traceback": [
      "\u001b[1;31m---------------------------------------------------------------------------\u001b[0m",
      "\u001b[1;31mNameError\u001b[0m                                 Traceback (most recent call last)",
      "Cell \u001b[1;32mIn[117], line 1\u001b[0m\n\u001b[1;32m----> 1\u001b[0m \u001b[43munichr\u001b[49m(\u001b[38;5;241m65\u001b[39m)\n",
      "\u001b[1;31mNameError\u001b[0m: name 'unichr' is not defined"
     ]
    }
   ],
   "source": [
    "unichr(65) # python 3 removes this\n"
   ]
  },
  {
   "cell_type": "code",
   "execution_count": 119,
   "id": "e266cb9a-cf4f-4d74-ab68-2db3a4d91b3c",
   "metadata": {},
   "outputs": [
    {
     "ename": "ValueError",
     "evalue": "dictionary update sequence element #0 has length 1; 2 is required",
     "output_type": "error",
     "traceback": [
      "\u001b[1;31m---------------------------------------------------------------------------\u001b[0m",
      "\u001b[1;31mValueError\u001b[0m                                Traceback (most recent call last)",
      "Cell \u001b[1;32mIn[119], line 2\u001b[0m\n\u001b[0;32m      1\u001b[0m m \u001b[38;5;241m=\u001b[39m \u001b[38;5;124m\"\u001b[39m\u001b[38;5;124mMani\u001b[39m\u001b[38;5;124m\"\u001b[39m\n\u001b[1;32m----> 2\u001b[0m \u001b[38;5;28;43mdict\u001b[39;49m\u001b[43m(\u001b[49m\u001b[43mm\u001b[49m\u001b[43m)\u001b[49m\n",
      "\u001b[1;31mValueError\u001b[0m: dictionary update sequence element #0 has length 1; 2 is required"
     ]
    }
   ],
   "source": [
    "m = \"Mani\"\n",
    "dict(m)"
   ]
  },
  {
   "cell_type": "code",
   "execution_count": 122,
   "id": "ffefe416-16f8-4e20-b1aa-9994b49be370",
   "metadata": {},
   "outputs": [
    {
     "data": {
      "text/plain": [
       "{'Mani': 20, 'Rahul': 22}"
      ]
     },
     "execution_count": 122,
     "metadata": {},
     "output_type": "execute_result"
    }
   ],
   "source": [
    "my_dict = dict([('Mani',20),('Rahul',22)])\n",
    "my_dict"
   ]
  },
  {
   "cell_type": "code",
   "execution_count": 129,
   "id": "b904522a-74ac-41f3-b6bf-4f501ee68432",
   "metadata": {},
   "outputs": [
    {
     "name": "stdin",
     "output_type": "stream",
     "text": [
      " 1.25\n",
      " 2036.5\n"
     ]
    },
    {
     "name": "stdout",
     "output_type": "stream",
     "text": [
      "1.25 + 2036.5 = 2037.75\n"
     ]
    }
   ],
   "source": [
    "#ex :\n",
    "num1 = float(input())\n",
    "num2 = float(input())\n",
    "add_ = num1+num2\n",
    "#del str\n",
    "print(str(num1)+ \" + \" +str(num2)+ \" = \" + \"%.2f\"%add_)"
   ]
  },
  {
   "cell_type": "code",
   "execution_count": 131,
   "id": "e644885a-2b53-4f68-87f0-4da978341ebc",
   "metadata": {},
   "outputs": [
    {
     "name": "stdin",
     "output_type": "stream",
     "text": [
      " 50\n",
      " 500\n"
     ]
    },
    {
     "name": "stdout",
     "output_type": "stream",
     "text": [
      "500\n"
     ]
    }
   ],
   "source": [
    "## finding the Lcm of two numbers:\n",
    "def LCM(a,b):\n",
    "    max_num = max(a,b)\n",
    "    while True:\n",
    "        if max_num %a == 0 and max_num %b == 0:\n",
    "            return max_num\n",
    "        max_num +=1\n",
    "    \n",
    "\n",
    "n1 = int(input()) #6\n",
    "n2 = int(input()) #3\n",
    "res = LCM(n1,n2)\n",
    "print(res)\n",
    "\n"
   ]
  },
  {
   "cell_type": "code",
   "execution_count": 132,
   "id": "afa4ec88-d6ab-40de-9add-fde605f13e04",
   "metadata": {},
   "outputs": [
    {
     "name": "stdout",
     "output_type": "stream",
     "text": [
      "2\n"
     ]
    }
   ],
   "source": [
    "#Finding the GCD of two numbers\n",
    "def GCD(a,b):\n",
    "    if a<b:\n",
    "        dividend = b\n",
    "        divisor = a\n",
    "    else:\n",
    "        divisor =b\n",
    "        dividend =a\n",
    "    while divisor:\n",
    "        dividend = divisor\n",
    "        divisor = dividend%divisor\n",
    "    return dividend\n",
    "\n",
    "res = GCD(2,6)\n",
    "print(res)\n",
    "        \n",
    "\n",
    "\n"
   ]
  },
  {
   "cell_type": "code",
   "execution_count": 138,
   "id": "a1c10e9a-294c-477e-b965-a9e580947f5f",
   "metadata": {},
   "outputs": [
    {
     "name": "stdin",
     "output_type": "stream",
     "text": [
      " 123\n"
     ]
    },
    {
     "name": "stdout",
     "output_type": "stream",
     "text": [
      "321\n"
     ]
    }
   ],
   "source": [
    "#write a python program to print the reverse of a number:\n",
    "n =int(input())#123\n",
    "res = 0\n",
    "rem = 0\n",
    "while n:\n",
    "    rem = n%10\n",
    "    res = rem+res*10\n",
    "    n = n//10\n",
    "print(int(res))  \n",
    "    \n"
   ]
  },
  {
   "cell_type": "code",
   "execution_count": 155,
   "id": "8518e671-c74e-408a-94a1-3295def5780b",
   "metadata": {},
   "outputs": [
    {
     "name": "stdin",
     "output_type": "stream",
     "text": [
      " 100\n"
     ]
    },
    {
     "name": "stdout",
     "output_type": "stream",
     "text": [
      "2\n",
      "3\n",
      "5\n",
      "7\n",
      "11\n",
      "13\n",
      "17\n",
      "19\n",
      "23\n",
      "29\n",
      "31\n",
      "37\n",
      "41\n",
      "43\n",
      "47\n",
      "53\n",
      "59\n",
      "61\n",
      "67\n",
      "71\n",
      "73\n",
      "79\n",
      "83\n",
      "89\n",
      "97\n"
     ]
    }
   ],
   "source": [
    "## print the n Prime Numbers:\n",
    "def isPrime(n):\n",
    "    i =2\n",
    "    while i<n:\n",
    "        if n%i == 0:\n",
    "            return False\n",
    "        i+=1\n",
    "    return True\n",
    "\n",
    "\n",
    "\n",
    "def prime(n):\n",
    "    i= 2\n",
    "    while i<n:\n",
    "        if isPrime(i):\n",
    "            print(i)\n",
    "        i+=1\n",
    "\n",
    "\n",
    "n = int(input())\n",
    "prime(n)\n",
    "    "
   ]
  },
  {
   "cell_type": "markdown",
   "id": "3f891815-20aa-4f3a-a373-2034a0f51dfd",
   "metadata": {},
   "source": [
    "## Errors"
   ]
  },
  {
   "cell_type": "code",
   "execution_count": 2,
   "id": "633eb5ad-6f4f-47d0-9cd0-e138400ea810",
   "metadata": {},
   "outputs": [
    {
     "ename": "SyntaxError",
     "evalue": "unmatched ')' (3611598793.py, line 2)",
     "output_type": "error",
     "traceback": [
      "\u001b[1;36m  Cell \u001b[1;32mIn[2], line 2\u001b[1;36m\u001b[0m\n\u001b[1;33m    print((2+3)))\u001b[0m\n\u001b[1;37m                ^\u001b[0m\n\u001b[1;31mSyntaxError\u001b[0m\u001b[1;31m:\u001b[0m unmatched ')'\n"
     ]
    }
   ],
   "source": [
    "print(\"!!! Syntax Error\")\n",
    "print((2+3)))"
   ]
  },
  {
   "cell_type": "code",
   "execution_count": 3,
   "id": "c916d4d8-5475-4a3e-922e-b3161eca2ad4",
   "metadata": {},
   "outputs": [
    {
     "name": "stdout",
     "output_type": "stream",
     "text": [
      "!!! Name Error\n"
     ]
    },
    {
     "ename": "NameError",
     "evalue": "name 'mani_S' is not defined",
     "output_type": "error",
     "traceback": [
      "\u001b[1;31m---------------------------------------------------------------------------\u001b[0m",
      "\u001b[1;31mNameError\u001b[0m                                 Traceback (most recent call last)",
      "Cell \u001b[1;32mIn[3], line 3\u001b[0m\n\u001b[0;32m      1\u001b[0m \u001b[38;5;28mprint\u001b[39m(\u001b[38;5;124m\"\u001b[39m\u001b[38;5;124m!!! Name Error\u001b[39m\u001b[38;5;124m\"\u001b[39m)\n\u001b[0;32m      2\u001b[0m mani_s \u001b[38;5;241m=\u001b[39m \u001b[38;5;124m'\u001b[39m\u001b[38;5;124mManisankar Reddy\u001b[39m\u001b[38;5;124m'\u001b[39m\n\u001b[1;32m----> 3\u001b[0m \u001b[38;5;28mprint\u001b[39m(\u001b[43mmani_S\u001b[49m)\n",
      "\u001b[1;31mNameError\u001b[0m: name 'mani_S' is not defined"
     ]
    }
   ],
   "source": [
    "print(\"!!! Name Error\")\n",
    "mani_s = 'Manisankar Reddy'\n",
    "print(mani_S)\n"
   ]
  },
  {
   "cell_type": "code",
   "execution_count": 6,
   "id": "a48a9186-5d92-4ff6-bf22-4c158d17c3db",
   "metadata": {},
   "outputs": [
    {
     "name": "stdout",
     "output_type": "stream",
     "text": [
      "!!! ZeroDivision Error\n"
     ]
    },
    {
     "ename": "ZeroDivisionError",
     "evalue": "integer modulo by zero",
     "output_type": "error",
     "traceback": [
      "\u001b[1;31m---------------------------------------------------------------------------\u001b[0m",
      "\u001b[1;31mZeroDivisionError\u001b[0m                         Traceback (most recent call last)",
      "Cell \u001b[1;32mIn[6], line 2\u001b[0m\n\u001b[0;32m      1\u001b[0m \u001b[38;5;28mprint\u001b[39m(\u001b[38;5;124m\"\u001b[39m\u001b[38;5;124m!!! ZeroDivision Error\u001b[39m\u001b[38;5;124m\"\u001b[39m)\n\u001b[1;32m----> 2\u001b[0m \u001b[38;5;28mprint\u001b[39m(\u001b[38;5;241;43m456789\u001b[39;49m\u001b[38;5;241;43m%\u001b[39;49m\u001b[38;5;241;43m0\u001b[39;49m)\n",
      "\u001b[1;31mZeroDivisionError\u001b[0m: integer modulo by zero"
     ]
    }
   ],
   "source": [
    "print(\"!!! ZeroDivision Error\")\n",
    "print(456789%0)"
   ]
  },
  {
   "cell_type": "markdown",
   "id": "b43018a7-87b1-4b4b-82f0-f2e2fd2cf728",
   "metadata": {},
   "source": [
    "### Creatign a FUnction"
   ]
  },
  {
   "cell_type": "code",
   "execution_count": 7,
   "id": "ae1ed72d-6cc9-4e66-bc11-73ed7ac8b896",
   "metadata": {},
   "outputs": [
    {
     "name": "stdout",
     "output_type": "stream",
     "text": [
      "Hello\n"
     ]
    },
    {
     "name": "stdin",
     "output_type": "stream",
     "text": [
      "Enter your name :  Mani Sankar Reddy\n"
     ]
    },
    {
     "name": "stdout",
     "output_type": "stream",
     "text": [
      "Mani Sankar Reddy\n"
     ]
    }
   ],
   "source": [
    "def my_function():\n",
    "    print(\"Hello\")\n",
    "    name = input(\"Enter your name : \")\n",
    "    print(name)\n",
    "my_function()"
   ]
  },
  {
   "cell_type": "code",
   "execution_count": 9,
   "id": "0698f894-31fb-4a9a-b0d0-5046c6dca41f",
   "metadata": {},
   "outputs": [
    {
     "name": "stdout",
     "output_type": "stream",
     "text": [
      "10.0\n"
     ]
    }
   ],
   "source": [
    "def divide(n1,n2):\n",
    "    return n1/n2\n",
    "\n",
    "print(divide(n2= 10,n1 =100))"
   ]
  },
  {
   "cell_type": "code",
   "execution_count": 11,
   "id": "6933dee0-c42b-46b5-bec3-b556ce7b28ce",
   "metadata": {},
   "outputs": [
    {
     "name": "stdout",
     "output_type": "stream",
     "text": [
      "35\n",
      "85\n"
     ]
    }
   ],
   "source": [
    "scores = [35,85,20,65,100,95,23]\n",
    "for _ in scores:\n",
    "    print(_)\n",
    "    if _ > 50:\n",
    "        break"
   ]
  },
  {
   "cell_type": "code",
   "execution_count": 13,
   "id": "8f55226a-e6cd-4c25-af79-e1835d4dc5c9",
   "metadata": {},
   "outputs": [
    {
     "name": "stdout",
     "output_type": "stream",
     "text": [
      "35\n",
      "20\n",
      "65\n",
      "100\n",
      "95\n",
      "23\n"
     ]
    }
   ],
   "source": [
    "scores = [35,85,20,65,100,95,23]\n",
    "for _ in scores:\n",
    "    if _ == 85:\n",
    "        continue\n",
    "    print(_)\n",
    "        "
   ]
  },
  {
   "cell_type": "code",
   "execution_count": 4,
   "id": "02a7787e-0b55-4754-ae99-f3f1702e53c2",
   "metadata": {},
   "outputs": [
    {
     "name": "stdout",
     "output_type": "stream",
     "text": [
      "valid\n"
     ]
    }
   ],
   "source": [
    "while True:\n",
    "    print(\"valid\")\n",
    "    break"
   ]
  },
  {
   "cell_type": "markdown",
   "id": "421b0226-d2ee-40ac-a365-6bca75a009dc",
   "metadata": {},
   "source": [
    "## List operations\n"
   ]
  },
  {
   "cell_type": "code",
   "execution_count": 15,
   "id": "f43ae1b5-d127-4054-a3da-c1fa57b8440f",
   "metadata": {},
   "outputs": [
    {
     "name": "stdout",
     "output_type": "stream",
     "text": [
      "[1, 2, 3, 4, 5, 6, 7, 8, 9, 10]\n",
      "4\n",
      "[1, 2, 3, 4, 5, 11]\n",
      "11\n",
      "5\n"
     ]
    }
   ],
   "source": [
    "list_1 = [1,2,3,4,5]\n",
    "list_2 = [6,7,8,9,10]\n",
    "print(list_1+list_2)\n",
    "print(list_1[3])\n",
    "list_1.append(11)\n",
    "print(list_1)\n",
    "print(list_1.pop())\n",
    "print(list_1[4])\n"
   ]
  },
  {
   "cell_type": "code",
   "execution_count": 16,
   "id": "cdc38093-611e-4506-9600-e08343ae396b",
   "metadata": {},
   "outputs": [
    {
     "name": "stdout",
     "output_type": "stream",
     "text": [
      "10\n",
      "8\n",
      "6\n",
      "4\n",
      "2\n"
     ]
    }
   ],
   "source": [
    "for i in range(10,0,-2):\n",
    "    print(i)"
   ]
  },
  {
   "cell_type": "code",
   "execution_count": 18,
   "id": "e07b614c-47d5-4b10-98a2-4ba89cc605d1",
   "metadata": {},
   "outputs": [
    {
     "name": "stdout",
     "output_type": "stream",
     "text": [
      "925.52\n",
      "5\n"
     ]
    }
   ],
   "source": [
    "print(abs(-925.52))\n",
    "print(round(5.25888))"
   ]
  },
  {
   "cell_type": "markdown",
   "id": "44f23b79-5291-469f-bb40-012f9a2cd3c3",
   "metadata": {},
   "source": [
    "## Randomisation"
   ]
  },
  {
   "cell_type": "code",
   "execution_count": 21,
   "id": "f87523f7-67fa-4755-b789-c69b6e7e1340",
   "metadata": {},
   "outputs": [
    {
     "name": "stdout",
     "output_type": "stream",
     "text": [
      "1\n"
     ]
    }
   ],
   "source": [
    "import random \n",
    "num = random.randint(1,10)\n",
    "print(num)"
   ]
  },
  {
   "cell_type": "markdown",
   "id": "1711d58e-cfd6-4015-8017-0087b9cd3157",
   "metadata": {},
   "source": [
    "## creating classes"
   ]
  },
  {
   "cell_type": "code",
   "execution_count": 42,
   "id": "6a946a16-0e60-4ad8-b326-45bb0445b169",
   "metadata": {},
   "outputs": [
    {
     "name": "stdout",
     "output_type": "stream",
     "text": [
      "Lovely\n",
      "brown\n",
      "Mani\n"
     ]
    }
   ],
   "source": [
    "class MyClass:\n",
    "    def __init__(self):\n",
    "        self.name = \"Mani\"\n",
    "    def details(self):\n",
    "        self.age = 20\n",
    "        self.color = \"brown\"\n",
    "        self.Heart = \"Lovely\"\n",
    "        print(self.Heart)\n",
    "        return self.color\n",
    "        \n",
    "obj = MyClass()\n",
    "print(obj.details())\n",
    "print(obj.name)"
   ]
  },
  {
   "cell_type": "markdown",
   "id": "94e4ff82-5d76-444b-b386-7b7195d1d307",
   "metadata": {},
   "source": [
    "## Inheritance"
   ]
  },
  {
   "cell_type": "code",
   "execution_count": 53,
   "id": "2d402a69-6661-45a6-96a6-373374c53297",
   "metadata": {},
   "outputs": [
    {
     "name": "stdout",
     "output_type": "stream",
     "text": [
      "Dog\n",
      "True\n",
      "\n",
      "\n",
      "Snake\n",
      "Child Method\n",
      "True\n"
     ]
    }
   ],
   "source": [
    "class Animal:\n",
    "    def breathe(self,name):\n",
    "        self.name = name\n",
    "        print(self.name)\n",
    "        return True\n",
    "\n",
    "class Reptiles(Animal):\n",
    "    def childMethod(self,name):\n",
    "        super().breathe(name)\n",
    "        print(\"Child Method\")\n",
    "        return True\n",
    "\n",
    "\n",
    "animal_obj = Animal()\n",
    "print(animal_obj.breathe('Dog'))\n",
    "print(\"\\n\")\n",
    "\n",
    "obj = Reptiles()\n",
    "print(obj.childMethod(\"Snake\"))"
   ]
  },
  {
   "cell_type": "code",
   "execution_count": null,
   "id": "9e1d96a7-83ab-4b4c-8af7-2e22ec867f9d",
   "metadata": {},
   "outputs": [],
   "source": []
  }
 ],
 "metadata": {
  "kernelspec": {
   "display_name": "Python 3 (ipykernel)",
   "language": "python",
   "name": "python3"
  },
  "language_info": {
   "codemirror_mode": {
    "name": "ipython",
    "version": 3
   },
   "file_extension": ".py",
   "mimetype": "text/x-python",
   "name": "python",
   "nbconvert_exporter": "python",
   "pygments_lexer": "ipython3",
   "version": "3.12.1"
  }
 },
 "nbformat": 4,
 "nbformat_minor": 5
}
